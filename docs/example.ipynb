{
 "cells": [
  {
   "cell_type": "markdown",
   "id": "0f9f6e60",
   "metadata": {},
   "source": [
    "# COWS example\n",
    "\n",
    "This Jupyter Notebook is available [here](https://github.com/SimonPfeifer/cows/blob/master/docs/example.ipynb) and the Python .py file [here](https://github.com/SimonPfeifer/cows/blob/master/docs/example.py)."
   ]
  },
  {
   "cell_type": "code",
   "execution_count": 1,
   "id": "5235a020",
   "metadata": {},
   "outputs": [],
   "source": [
    "import cows\n",
    "import numpy as np\n",
    "import matplotlib.pyplot as plt\n",
    "%matplotlib inline"
   ]
  },
  {
   "cell_type": "code",
   "execution_count": 2,
   "id": "cba9ccc4",
   "metadata": {},
   "outputs": [],
   "source": [
    "def thick_slice(data, z, dz, operator='and'):\n",
    "    '''Returns a slice of the data at z\n",
    "        with thickness dz.\n",
    "    '''\n",
    "    zmin = int(z-np.round(dz/2))\n",
    "    zmax = int(z+np.round(dz/2))\n",
    "    if operator == 'and':\n",
    "        return np.any(data[zmin:zmax], axis=0).astype(int)\n",
    "    if operator == 'sum':\n",
    "        return np.sum(data[zmin:zmax], axis=0)\n",
    "    else:\n",
    "        raise ValueError('Invalid operator: {}'.format(operator))\n",
    "    "
   ]
  },
  {
   "cell_type": "code",
   "execution_count": 3,
   "id": "28f022d3",
   "metadata": {},
   "outputs": [],
   "source": [
    "# Load the test data. It consists of a 64x64x64 cube of V-web data, a cosmic web classifier.\n",
    "# In the context of the V-web, the values are:\n",
    "# 0 - voids\n",
    "# 1 - sheets\n",
    "# 2 - filaments\n",
    "# 3 - knots\n",
    "data = np.load('../tests/test_data.npy')\n",
    "ncells = data.shape[0]"
   ]
  },
  {
   "cell_type": "code",
   "execution_count": 4,
   "id": "1bbcea3f",
   "metadata": {},
   "outputs": [
    {
     "data": {
      "image/png": "[encoded data removed]",
      "text/plain": [
       "<Figure size 432x288 with 1 Axes>"
      ]
     },
     "metadata": {
      "needs_background": "light"
     },
     "output_type": "display_data"
    }
   ],
   "source": [
    "# Plot a slice of the V-web centred of a big knot\n",
    "z = 11 # depth of slice\n",
    "plt.imshow(data[z], origin='lower')\n",
    "plt.show()"
   ]
  },
  {
   "cell_type": "code",
   "execution_count": 5,
   "id": "f77b7a98",
   "metadata": {},
   "outputs": [
    {
     "data": {
      "image/png": "[encoded data removed]",
      "text/plain": [
       "<Figure size 432x288 with 1 Axes>"
      ]
     },
     "metadata": {
      "needs_background": "light"
     },
     "output_type": "display_data"
    }
   ],
   "source": [
    "# Process the V-web data to generate the COWS input data.\n",
    "# Set the filaments and knots to foreground value (1)\n",
    "cows_input = np.zeros(data.shape)\n",
    "cows_input[data==2] = 1 # filaments\n",
    "cows_input[data==3] = 1 # knots\n",
    "\n",
    "# Plot the same slice of input data\n",
    "plt.imshow(cows_input[z], cmap='binary', origin='lower')\n",
    "plt.show()"
   ]
  },
  {
   "cell_type": "code",
   "execution_count": 10,
   "id": "d4721e42",
   "metadata": {},
   "outputs": [
    {
     "data": {
      "image/png": "[encoded data removed]",
      "text/plain": [
       "<Figure size 432x288 with 1 Axes>"
      ]
     },
     "metadata": {
      "needs_background": "light"
     },
     "output_type": "display_data"
    }
   ],
   "source": [
    "# Start the COWS method\n",
    "# First, get the medial axis, the skeleton of the input data.\n",
    "# The V-web data is a chuck from a periodic simulation, so periodic=False. If it was\n",
    "# the full periodic simulation box, periodic=True.\n",
    "skeleton = cows.skeletonize(cows_input, periodic=False)\n",
    "\n",
    "# Plot a slice of the skeleton with some thickness, dz\n",
    "dz = 10\n",
    "plt.imshow(thick_slice(skeleton,z,dz,operator='and'), cmap='binary', origin='lower')\n",
    "plt.show()"
   ]
  },
  {
   "cell_type": "code",
   "execution_count": 11,
   "id": "022b3d9e",
   "metadata": {},
   "outputs": [
    {
     "data": {
      "image/png": "[encoded data removed]",
      "text/plain": [
       "<Figure size 432x288 with 1 Axes>"
      ]
     },
     "metadata": {
      "needs_background": "light"
     },
     "output_type": "display_data"
    }
   ],
   "source": [
    "# Remove cells that are knots in the V-web\n",
    "skeleton[data==3] = 0\n",
    "\n",
    "# Separate the skeleton into filaments by removing cavities (blobs) and junctions\n",
    "filaments = cows.separate_skeleton(skeleton, periodic=False)\n",
    "\n",
    "# Plot a slice of the skeleton with some thickness, dz\n",
    "plt.imshow(thick_slice(filaments,z,dz,operator='and'), cmap='binary', origin='lower')\n",
    "plt.show()"
   ]
  },
  {
   "cell_type": "code",
   "execution_count": 14,
   "id": "22d4b171",
   "metadata": {},
   "outputs": [
    {
     "name": "stdout",
     "output_type": "stream",
     "text": [
      "[ 1. 33. 61. 16. 50.  0.  1.  0.]\n"
     ]
    }
   ],
   "source": [
    "# Generate a filament catalogue\n",
    "catalogue = cows.gen_catalogue(filaments)\n",
    "\n",
    "# The filament catalogue is formatted as follows:\n",
    "# filament ID, filament length, X-, Y-, Z-position (on the grid), X-, Y-, Z-direction\n",
    "print(catalogue[0])"
   ]
  },
  {
   "cell_type": "code",
   "execution_count": null,
   "id": "8f8949f3",
   "metadata": {},
   "outputs": [],
   "source": []
  }
 ],
 "metadata": {
  "kernelspec": {
   "display_name": "Python 3",
   "language": "python",
   "name": "python3"
  },
  "language_info": {
   "codemirror_mode": {
    "name": "ipython",
    "version": 3
   },
   "file_extension": ".py",
   "mimetype": "text/x-python",
   "name": "python",
   "nbconvert_exporter": "python",
   "pygments_lexer": "ipython3",
   "version": "3.9.9"
  }
 },
 "nbformat": 4,
 "nbformat_minor": 5
}
